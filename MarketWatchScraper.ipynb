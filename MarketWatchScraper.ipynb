{
 "cells": [
  {
   "cell_type": "code",
   "execution_count": 10,
   "metadata": {},
   "outputs": [],
   "source": [
    "import requests\n",
    "from bs4 import BeautifulSoup\n",
    "import feedparser\n",
    "import pandas as pd\n",
    "import time\n",
    "import numpy as np\n",
    "import nltk\n",
    "from nltk.sentiment.vader import SentimentIntensityAnalyzer as SIA\n",
    "import re\n",
    "from datetime import datetime\n",
    "\n",
    "def strip_html(text):\n",
    "    tag = re.compile(r'<[^>]+>')\n",
    "    return tag.sub('', text)\n",
    "\n",
    "feed = 'https://www.nasdaq.com/feed/rssoutbound?symbol=AMD'\n",
    "\n",
    "rss = feedparser.parse(feed)\n",
    "\n",
    "articles = rss.entries\n",
    "\n",
    "summaries = list()\n",
    "for article in articles:\n",
    "    entry = dict()\n",
    "    text = strip_html(article['summary']).replace('\\n', '')\n",
    "    if len(text) > 65:\n",
    "        entry['text'] = text\n",
    "        entry['time'] = article['published']\n",
    "        entry['symbols'] = article['nasdaq_tickers'].split(',')\n",
    "        summaries.append(entry)\n",
    "\n",
    "sia = SIA()\n",
    "sentiments = list()\n",
    "for summary in summaries:\n",
    "    score = sia.polarity_scores(item['text'])\n",
    "    score['text'] = summary['text']\n",
    "    time = ' '.join(summary['time'].split(' ')[1:4])\n",
    "    score['time'] = datetime.strptime(time, '%d %b %Y')\n",
    "    score['tickers'] = summary['symbols']\n",
    "    sentiments.append(score)\n",
    "\n",
    "sentiment_df = pd.DataFrame.from_records(sentiments)\n"
   ]
  },
  {
   "cell_type": "code",
   "execution_count": null,
   "metadata": {},
   "outputs": [],
   "source": []
  }
 ],
 "metadata": {
  "kernelspec": {
   "display_name": "Python 3",
   "language": "python",
   "name": "python3"
  },
  "language_info": {
   "codemirror_mode": {
    "name": "ipython",
    "version": 3
   },
   "file_extension": ".py",
   "mimetype": "text/x-python",
   "name": "python",
   "nbconvert_exporter": "python",
   "pygments_lexer": "ipython3",
   "version": "3.7.3"
  }
 },
 "nbformat": 4,
 "nbformat_minor": 2
}
