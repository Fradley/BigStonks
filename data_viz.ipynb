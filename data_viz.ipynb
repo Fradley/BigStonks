{
 "cells": [
  {
   "cell_type": "code",
   "execution_count": 1,
   "metadata": {},
   "outputs": [],
   "source": [
    "import pandas as pd\n",
    "import os\n",
    "from os.path import join, isfile\n",
    "from bokeh.palettes import inferno\n",
    "from bokeh.plotting import figure, save\n",
    "from bokeh.io import output_file, show\n",
    "from bokeh.layouts import column\n",
    "from datetime import datetime\n",
    "from bokeh.models import HoverTool, ColumnDataSource, Legend, CustomJS"
   ]
  },
  {
   "cell_type": "code",
   "execution_count": 6,
   "metadata": {},
   "outputs": [],
   "source": [
    "def build_dataset(fpath, ext='.csv'):\n",
    "    files = [join(fpath, f) for f in os.listdir(fpath) if isfile(join(fpath, f))]\n",
    "    dfs = list()\n",
    "    for f in files:\n",
    "        dfs.append(pd.read_csv(f))\n",
    "    df = pd.concat(dfs)\n",
    "    df.columns = [col[0].upper() + col[1:] for col in df.columns]\n",
    "    df['Time'] = pd.to_datetime(df['Time'])\n",
    "    df.sort_values('Time', ascending=True, inplace=True)\n",
    "    df.reset_index(drop=True, inplace=True)\n",
    "    df.drop_duplicates('Time', keep='first', inplace=True)\n",
    "    return df\n",
    "\n",
    "\n",
    "def build_visualization(symbol, fpath='Data/', outpath='Visualizations/', bad_vars=['Time', 'Volume']):\n",
    "    symbol = symbol.lower()\n",
    "    datasets = dict()\n",
    "    datasets['Daily'] = build_dataset(fpath + f'{symbol}/{symbol}_daily/')\n",
    "    datasets['Intraday'] = build_dataset(fpath + f'{symbol}/{symbol}_intraday/')\n",
    "    datasets['Sentiment'] = build_dataset(fpath + f'{symbol}/{symbol}_sentiment/')\n",
    "    figs = list()\n",
    "    for dataset in datasets.keys():\n",
    "        s = figure(plot_width=1600, plot_height=500, x_axis_type=\"datetime\")\n",
    "        s.title.text = f'Data from {dataset}'\n",
    "        columns = [c for c in list(datasets[dataset].columns) if c not in bad_vars]\n",
    "        colors = inferno(len(columns))\n",
    "        for col, color in zip(columns, colors):\n",
    "            line = s.line(x='Time', y=col, source=datasets[dataset], line_width=2, color=color, alpha=0.8, legend_label=col)\n",
    "            s.add_tools(HoverTool(renderers=[line], tooltips=[('date', '@Time{%F}'), (f'{col}',f'@{col}'), ('Volume', f'@Volume')], formatters={'date': 'datetime', f'{col}': f'numeral', 'Volume': f'numeral'},mode='mouse'))\n",
    "        s.legend.location = \"top_left\"\n",
    "        s.legend.click_policy=\"hide\"\n",
    "        figs.append(s)\n",
    "    now = datetime.now()\n",
    "    output_file(outpath + f'{symbol}_viz_{now.year}_{now.month}_{now.day}.html', title=f'Plots for {symbol}')\n",
    "    c = column(*figs)\n",
    "    show(c)\n",
    "    save(c)"
   ]
  },
  {
   "cell_type": "code",
   "execution_count": 7,
   "metadata": {},
   "outputs": [],
   "source": [
    "build_visualization('aapl')"
   ]
  },
  {
   "cell_type": "code",
   "execution_count": null,
   "metadata": {},
   "outputs": [],
   "source": []
  }
 ],
 "metadata": {
  "kernelspec": {
   "display_name": "Python 3",
   "language": "python",
   "name": "python3"
  },
  "language_info": {
   "codemirror_mode": {
    "name": "ipython",
    "version": 3
   },
   "file_extension": ".py",
   "mimetype": "text/x-python",
   "name": "python",
   "nbconvert_exporter": "python",
   "pygments_lexer": "ipython3",
   "version": "3.7.3"
  }
 },
 "nbformat": 4,
 "nbformat_minor": 2
}
